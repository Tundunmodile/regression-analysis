{
 "cells": [
  {
   "cell_type": "code",
   "execution_count": 1,
   "metadata": {},
   "outputs": [],
   "source": [
    "import pandas as pd\n",
    "import numpy as np\n",
    "import matplotlib.pyplot as plt\n",
    "import seaborn as sns\n",
    "from collections import Counter "
   ]
  },
  {
   "cell_type": "code",
   "execution_count": 2,
   "metadata": {},
   "outputs": [],
   "source": [
    "netflixdata = pd.read_csv(\"netflix_titles.csv\")\n",
    "#print(netflixdata.head(10))"
   ]
  },
  {
   "cell_type": "code",
   "execution_count": 3,
   "metadata": {},
   "outputs": [
    {
     "data": {
      "text/plain": [
       "{'United States': 1850,\n",
       " 'India': 852,\n",
       " nan: 230,\n",
       " 'United Kingdom': 193,\n",
       " 'Canada': 118,\n",
       " 'Egypt': 89,\n",
       " 'Spain': 89,\n",
       " 'Turkey': 73,\n",
       " 'Philippines': 70,\n",
       " 'France': 69,\n",
       " 'Japan': 69,\n",
       " 'Indonesia': 68,\n",
       " 'Mexico': 65,\n",
       " 'Nigeria': 62,\n",
       " 'United Kingdom, United States': 52,\n",
       " 'Hong Kong': 49,\n",
       " 'Brazil': 46,\n",
       " 'Germany': 42,\n",
       " 'United States, Canada': 38,\n",
       " 'Australia': 37}"
      ]
     },
     "execution_count": 3,
     "metadata": {},
     "output_type": "execute_result"
    }
   ],
   "source": [
    "dict(Counter(netflixdata['country'].values).most_common(20))"
   ]
  },
  {
   "cell_type": "code",
   "execution_count": 9,
   "metadata": {},
   "outputs": [
    {
     "name": "stdout",
     "output_type": "stream",
     "text": [
      "{3, 5, 8, 9, 10, 11, 12, 13, 14, 15, 16, 17, 18, 19, 20, 21, 22, 23, 24, 25, 26, 27, 28, 29, 30, 31, 32, 33, 34, 35, 36, 37, 38, 40, 41, 42, 43, 44, 45, 46, 47, 48, 49, 50, 51, 52, 53, 54, 55, 56, 57, 58, 59, 60, 61, 62, 63, 64, 65, 66, 67, 68, 69, 70, 71, 72, 73, 74, 75, 76, 77, 78, 79, 80, 81, 82, 83, 84, 85, 86, 87, 88, 89, 90, 91, 92, 93, 94, 95, 96, 97, 98, 99, 100, 101, 102, 103, 104, 105, 106, 107, 108, 109, 110, 111, 112, 113, 114, 115, 116, 117, 118, 119, 120, 121, 122, 123, 124, 125, 126, 127, 128, 129, 130, 131, 132, 133, 134, 135, 136, 137, 138, 139, 140, 141, 142, 143, 144, 145, 146, 147, 148, 149, 150, 151, 152, 153, 154, 155, 156, 157, 158, 159, 160, 161, 162, 163, 164, 165, 166, 167, 168, 169, 170, 171, 172, 173, 174, 176, 177, 178, 179, 180, 181, 182, 185, 186, 187, 189, 190, 191, 192, 193, 194, 195, 196, 200, 201, 203, 204, 205, 208, 209, 214, 224, 228, 230, 233, 237, 253, 312}\n"
     ]
    },
    {
     "ename": "AttributeError",
     "evalue": "'int' object has no attribute 'rstrip'",
     "output_type": "error",
     "traceback": [
      "\u001b[1;31m---------------------------------------------------------------------------\u001b[0m",
      "\u001b[1;31mAttributeError\u001b[0m                            Traceback (most recent call last)",
      "\u001b[1;32m<ipython-input-9-989230326524>\u001b[0m in \u001b[0;36m<module>\u001b[1;34m\u001b[0m\n\u001b[0;32m      1\u001b[0m \u001b[0mprint\u001b[0m\u001b[1;33m(\u001b[0m\u001b[0mset\u001b[0m\u001b[1;33m(\u001b[0m\u001b[0mnetflixdata\u001b[0m\u001b[1;33m[\u001b[0m\u001b[1;34m'duration'\u001b[0m\u001b[1;33m]\u001b[0m\u001b[1;33m)\u001b[0m\u001b[1;33m)\u001b[0m\u001b[1;33m\u001b[0m\u001b[1;33m\u001b[0m\u001b[0m\n\u001b[1;32m----> 2\u001b[1;33m \u001b[0mnetflixdata\u001b[0m\u001b[1;33m[\u001b[0m\u001b[1;34m'duration'\u001b[0m\u001b[1;33m]\u001b[0m \u001b[1;33m=\u001b[0m \u001b[0mnetflixdata\u001b[0m\u001b[1;33m[\u001b[0m\u001b[1;34m'duration'\u001b[0m\u001b[1;33m]\u001b[0m\u001b[1;33m.\u001b[0m\u001b[0mmap\u001b[0m\u001b[1;33m(\u001b[0m\u001b[1;32mlambda\u001b[0m \u001b[0mx\u001b[0m\u001b[1;33m:\u001b[0m \u001b[0mx\u001b[0m\u001b[1;33m.\u001b[0m\u001b[0mrstrip\u001b[0m\u001b[1;33m(\u001b[0m\u001b[1;34m'min'\u001b[0m\u001b[1;33m)\u001b[0m\u001b[1;33m)\u001b[0m\u001b[1;33m.\u001b[0m\u001b[0mastype\u001b[0m\u001b[1;33m(\u001b[0m\u001b[0mint\u001b[0m\u001b[1;33m)\u001b[0m\u001b[1;33m\u001b[0m\u001b[1;33m\u001b[0m\u001b[0m\n\u001b[0m\u001b[0;32m      3\u001b[0m \u001b[0mprint\u001b[0m\u001b[1;33m(\u001b[0m\u001b[0mset\u001b[0m\u001b[1;33m(\u001b[0m\u001b[0mnetflixdata\u001b[0m\u001b[1;33m[\u001b[0m\u001b[1;34m'duration'\u001b[0m\u001b[1;33m]\u001b[0m\u001b[1;33m)\u001b[0m\u001b[1;33m)\u001b[0m\u001b[1;33m\u001b[0m\u001b[1;33m\u001b[0m\u001b[0m\n",
      "\u001b[1;32m~\\New folder (2)\\lib\\site-packages\\pandas\\core\\series.py\u001b[0m in \u001b[0;36mmap\u001b[1;34m(self, arg, na_action)\u001b[0m\n\u001b[0;32m   3968\u001b[0m         \u001b[0mdtype\u001b[0m\u001b[1;33m:\u001b[0m \u001b[0mobject\u001b[0m\u001b[1;33m\u001b[0m\u001b[1;33m\u001b[0m\u001b[0m\n\u001b[0;32m   3969\u001b[0m         \"\"\"\n\u001b[1;32m-> 3970\u001b[1;33m         \u001b[0mnew_values\u001b[0m \u001b[1;33m=\u001b[0m \u001b[0msuper\u001b[0m\u001b[1;33m(\u001b[0m\u001b[1;33m)\u001b[0m\u001b[1;33m.\u001b[0m\u001b[0m_map_values\u001b[0m\u001b[1;33m(\u001b[0m\u001b[0marg\u001b[0m\u001b[1;33m,\u001b[0m \u001b[0mna_action\u001b[0m\u001b[1;33m=\u001b[0m\u001b[0mna_action\u001b[0m\u001b[1;33m)\u001b[0m\u001b[1;33m\u001b[0m\u001b[1;33m\u001b[0m\u001b[0m\n\u001b[0m\u001b[0;32m   3971\u001b[0m         return self._constructor(new_values, index=self.index).__finalize__(\n\u001b[0;32m   3972\u001b[0m             \u001b[0mself\u001b[0m\u001b[1;33m,\u001b[0m \u001b[0mmethod\u001b[0m\u001b[1;33m=\u001b[0m\u001b[1;34m\"map\"\u001b[0m\u001b[1;33m\u001b[0m\u001b[1;33m\u001b[0m\u001b[0m\n",
      "\u001b[1;32m~\\New folder (2)\\lib\\site-packages\\pandas\\core\\base.py\u001b[0m in \u001b[0;36m_map_values\u001b[1;34m(self, mapper, na_action)\u001b[0m\n\u001b[0;32m   1158\u001b[0m \u001b[1;33m\u001b[0m\u001b[0m\n\u001b[0;32m   1159\u001b[0m         \u001b[1;31m# mapper is a function\u001b[0m\u001b[1;33m\u001b[0m\u001b[1;33m\u001b[0m\u001b[1;33m\u001b[0m\u001b[0m\n\u001b[1;32m-> 1160\u001b[1;33m         \u001b[0mnew_values\u001b[0m \u001b[1;33m=\u001b[0m \u001b[0mmap_f\u001b[0m\u001b[1;33m(\u001b[0m\u001b[0mvalues\u001b[0m\u001b[1;33m,\u001b[0m \u001b[0mmapper\u001b[0m\u001b[1;33m)\u001b[0m\u001b[1;33m\u001b[0m\u001b[1;33m\u001b[0m\u001b[0m\n\u001b[0m\u001b[0;32m   1161\u001b[0m \u001b[1;33m\u001b[0m\u001b[0m\n\u001b[0;32m   1162\u001b[0m         \u001b[1;32mreturn\u001b[0m \u001b[0mnew_values\u001b[0m\u001b[1;33m\u001b[0m\u001b[1;33m\u001b[0m\u001b[0m\n",
      "\u001b[1;32mpandas\\_libs\\lib.pyx\u001b[0m in \u001b[0;36mpandas._libs.lib.map_infer\u001b[1;34m()\u001b[0m\n",
      "\u001b[1;32m<ipython-input-9-989230326524>\u001b[0m in \u001b[0;36m<lambda>\u001b[1;34m(x)\u001b[0m\n\u001b[0;32m      1\u001b[0m \u001b[0mprint\u001b[0m\u001b[1;33m(\u001b[0m\u001b[0mset\u001b[0m\u001b[1;33m(\u001b[0m\u001b[0mnetflixdata\u001b[0m\u001b[1;33m[\u001b[0m\u001b[1;34m'duration'\u001b[0m\u001b[1;33m]\u001b[0m\u001b[1;33m)\u001b[0m\u001b[1;33m)\u001b[0m\u001b[1;33m\u001b[0m\u001b[1;33m\u001b[0m\u001b[0m\n\u001b[1;32m----> 2\u001b[1;33m \u001b[0mnetflixdata\u001b[0m\u001b[1;33m[\u001b[0m\u001b[1;34m'duration'\u001b[0m\u001b[1;33m]\u001b[0m \u001b[1;33m=\u001b[0m \u001b[0mnetflixdata\u001b[0m\u001b[1;33m[\u001b[0m\u001b[1;34m'duration'\u001b[0m\u001b[1;33m]\u001b[0m\u001b[1;33m.\u001b[0m\u001b[0mmap\u001b[0m\u001b[1;33m(\u001b[0m\u001b[1;32mlambda\u001b[0m \u001b[0mx\u001b[0m\u001b[1;33m:\u001b[0m \u001b[0mx\u001b[0m\u001b[1;33m.\u001b[0m\u001b[0mrstrip\u001b[0m\u001b[1;33m(\u001b[0m\u001b[1;34m'min'\u001b[0m\u001b[1;33m)\u001b[0m\u001b[1;33m)\u001b[0m\u001b[1;33m.\u001b[0m\u001b[0mastype\u001b[0m\u001b[1;33m(\u001b[0m\u001b[0mint\u001b[0m\u001b[1;33m)\u001b[0m\u001b[1;33m\u001b[0m\u001b[1;33m\u001b[0m\u001b[0m\n\u001b[0m\u001b[0;32m      3\u001b[0m \u001b[0mprint\u001b[0m\u001b[1;33m(\u001b[0m\u001b[0mset\u001b[0m\u001b[1;33m(\u001b[0m\u001b[0mnetflixdata\u001b[0m\u001b[1;33m[\u001b[0m\u001b[1;34m'duration'\u001b[0m\u001b[1;33m]\u001b[0m\u001b[1;33m)\u001b[0m\u001b[1;33m)\u001b[0m\u001b[1;33m\u001b[0m\u001b[1;33m\u001b[0m\u001b[0m\n",
      "\u001b[1;31mAttributeError\u001b[0m: 'int' object has no attribute 'rstrip'"
     ]
    }
   ],
   "source": [
    "print(set(netflixdata['duration']))\n",
    "netflixdata['duration'] = netflixdata['duration'].map(lambda x: x.rstrip('min')).astype(int)\n",
    "print(set(netflixdata['duration']))"
   ]
  },
  {
   "cell_type": "code",
   "execution_count": 12,
   "metadata": {},
   "outputs": [],
   "source": [
    "def return_statistics(data_frame, categorical_column, numerical_column):\n",
    "    mean = []\n",
    "    std = []\n",
    "    field = []\n",
    "    for i in set(list(data_frame[categorical_column].values)):\n",
    "        new_data = data_frame[data_frame[categorical_column] == i]\n",
    "        field.append(i)\n",
    "        mean.append(new_data[numerical_column].mean())\n",
    "        std.append(new_data[numerical_column].std())\n",
    "    netflixdata = pd.DataFrame({'{}'.format(categorical_column): field, 'mean {}'.format(numerical_column): mean, 'std in {}'.format(numerical_column): std})\n",
    "    netflixdata.sort_values('mean {}'.format(numerical_column), inplace = True, ascending = False)\n",
    "    netflixdata.dropna(inplace = True)\n",
    "    return netflixdata"
   ]
  },
  {
   "cell_type": "code",
   "execution_count": 13,
   "metadata": {},
   "outputs": [
    {
     "name": "stdout",
     "output_type": "stream",
     "text": [
      "                                                 genre  mean duration  \\\n",
      "234            Classic Movies, Dramas, Romantic Movies     153.666667   \n",
      "135                Classic Movies, Cult Movies, Dramas     145.500000   \n",
      "255           Classic Movies, Dramas, Music & Musicals     145.000000   \n",
      "24   Action & Adventure, International Movies, Musi...     142.800000   \n",
      "228         Action & Adventure, Classic Movies, Dramas     142.428571   \n",
      "254               Action & Adventure, Comedies, Dramas     136.083333   \n",
      "57      Dramas, International Movies, Music & Musicals     136.038462   \n",
      "38               Classic Movies, Dramas, Sports Movies     133.500000   \n",
      "125  International Movies, Music & Musicals, Romant...     133.000000   \n",
      "209       Action & Adventure, Classic Movies, Comedies     130.333333   \n",
      "151   Comedies, International Movies, Sci-Fi & Fantasy     129.666667   \n",
      "15    Action & Adventure, Dramas, International Movies     129.521368   \n",
      "44                      Cult Movies, Dramas, Thrillers     129.500000   \n",
      "88        Classic Movies, Dramas, International Movies     129.444444   \n",
      "3     Comedies, International Movies, Music & Musicals     129.075472   \n",
      "\n",
      "     std in duration  \n",
      "234        46.003623  \n",
      "135        12.020815  \n",
      "255        50.911688  \n",
      "24         15.894094  \n",
      "228        41.307211  \n",
      "254        28.946603  \n",
      "57         27.089511  \n",
      "38          6.363961  \n",
      "125        20.861448  \n",
      "209        40.104031  \n",
      "151        31.001075  \n",
      "15         27.520086  \n",
      "44         40.305087  \n",
      "88         40.195438  \n",
      "3          22.611985  \n"
     ]
    }
   ],
   "source": [
    "stats = return_statistics(netflixdata, 'genre', 'duration')\n",
    "print(stats.head(15))"
   ]
  },
  {
   "cell_type": "code",
   "execution_count": 5,
   "metadata": {},
   "outputs": [],
   "source": [
    "huludata = pd.read_csv(\"hulu_titles.csv\")\n",
    "#print(huludata.head(10))"
   ]
  },
  {
   "cell_type": "code",
   "execution_count": 6,
   "metadata": {},
   "outputs": [
    {
     "data": {
      "text/plain": [
       "{'United States': 502,\n",
       " 'United Kingdom': 38,\n",
       " 'Canada': 25,\n",
       " 'Japan': 20,\n",
       " 'United States,United Kingdom': 15,\n",
       " 'Canada,United States': 14,\n",
       " 'United Kingdom,United States': 14,\n",
       " 'France': 12,\n",
       " 'United States,Canada': 11,\n",
       " nan: 11,\n",
       " 'South Korea': 11,\n",
       " 'Australia': 8,\n",
       " 'Ireland,United Kingdom': 6,\n",
       " 'United States,Japan': 5,\n",
       " 'Italy,France': 5,\n",
       " 'United States,Germany': 4,\n",
       " 'Spain': 4,\n",
       " 'United States,France': 4,\n",
       " 'United States,Mexico': 4,\n",
       " 'Denmark': 3}"
      ]
     },
     "execution_count": 6,
     "metadata": {},
     "output_type": "execute_result"
    }
   ],
   "source": [
    "dict(Counter(huludata['country'].values).most_common(20))"
   ]
  },
  {
   "cell_type": "code",
   "execution_count": 7,
   "metadata": {},
   "outputs": [
    {
     "name": "stdout",
     "output_type": "stream",
     "text": [
      "{nan, nan, nan, nan, nan, nan, nan, nan, nan, nan, nan, nan, 12.0, nan, nan, 15.0, 22.0, 28.0, 30.0, nan, nan, nan, 34.0, 35.0, 36.0, nan, 38.0, 39.0, 44.0, 45.0, 48.0, 50.0, 51.0, 52.0, 55.0, 57.0, 58.0, 60.0, 65.0, 68.0, 69.0, 70.0, 71.0, 72.0, 73.0, 74.0, 75.0, 76.0, 77.0, 78.0, 79.0, 80.0, 81.0, 82.0, 83.0, 84.0, 85.0, 86.0, 87.0, 88.0, 89.0, 90.0, 91.0, 92.0, 93.0, 94.0, 95.0, 96.0, 97.0, 98.0, 99.0, 100.0, 101.0, 102.0, 103.0, 104.0, 105.0, 106.0, 107.0, 108.0, 109.0, 110.0, 111.0, 112.0, 113.0, 114.0, 115.0, 116.0, 117.0, 118.0, 119.0, 120.0, 121.0, 122.0, 123.0, 124.0, 125.0, 126.0, 127.0, 128.0, 129.0, 130.0, 132.0, 133.0, 135.0, 136.0, 137.0, 139.0, 140.0, 141.0, 143.0, 146.0, 147.0, 151.0, 152.0, 153.0, 154.0, 157.0, 159.0, 165.0, 174.0, 189.0, 210.0, 750.0, 265.0}\n"
     ]
    }
   ],
   "source": [
    "print(set(huludata['duration']))"
   ]
  },
  {
   "cell_type": "code",
   "execution_count": 10,
   "metadata": {},
   "outputs": [],
   "source": [
    "def return_statistics(data_frame, categorical_column, numerical_column):\n",
    "    mean = []\n",
    "    std = []\n",
    "    field = []\n",
    "    for i in set(list(data_frame[categorical_column].values)):\n",
    "        new_data = data_frame[data_frame[categorical_column] == i]\n",
    "        field.append(i)\n",
    "        mean.append(new_data[numerical_column].mean())\n",
    "        std.append(new_data[numerical_column].std())\n",
    "    huludata = pd.DataFrame({'{}'.format(categorical_column): field, 'mean {}'.format(numerical_column): mean, 'std in {}'.format(numerical_column): std})\n",
    "    huludata.sort_values('mean {}'.format(numerical_column), inplace = True, ascending = False)\n",
    "    huludata.dropna(inplace = True)\n",
    "    return huludata"
   ]
  },
  {
   "cell_type": "code",
   "execution_count": 11,
   "metadata": {},
   "outputs": [
    {
     "name": "stdout",
     "output_type": "stream",
     "text": [
      "                                genre  mean duration  std in duration\n",
      "73                 Action,Crime,Drama     268.750000       321.043481\n",
      "241              Drama,Fantasy,Horror     210.000000         0.000000\n",
      "160          Action,Drama,History,War     136.333333        26.083200\n",
      "260  Action,Drama,History,Romance,War     131.500000        10.606602\n",
      "227                      Drama,Sci-Fi     124.800000        12.377399\n",
      "33            Action,Adventure,Sci-Fi     121.500000        22.037846\n",
      "325          Action,Adventure,Fantasy     121.000000        11.313708\n",
      "263                  Action,Adventure     120.000000        28.284271\n",
      "62            Biography,Drama,Romance     119.000000         7.393691\n",
      "30           Adventure,Drama,Thriller     119.000000        24.041631\n",
      "296              Action,Drama,History     116.500000        28.991378\n",
      "204             Action,Crime,Thriller     114.166667        17.554676\n",
      "169               Drama,Music,Romance     113.666667        21.079216\n",
      "157      Biography,Comedy,Drama,Sport     113.500000         7.778175\n",
      "144           Action,Adventure,Comedy     113.000000         3.605551\n"
     ]
    }
   ],
   "source": [
    "stats = return_statistics(huludata, 'genre', 'duration')\n",
    "print(stats.head(15))"
   ]
  },
  {
   "cell_type": "code",
   "execution_count": null,
   "metadata": {},
   "outputs": [],
   "source": []
  }
 ],
 "metadata": {
  "kernelspec": {
   "display_name": "Python 3",
   "language": "python",
   "name": "python3"
  },
  "language_info": {
   "codemirror_mode": {
    "name": "ipython",
    "version": 3
   },
   "file_extension": ".py",
   "mimetype": "text/x-python",
   "name": "python",
   "nbconvert_exporter": "python",
   "pygments_lexer": "ipython3",
   "version": "3.8.5"
  }
 },
 "nbformat": 4,
 "nbformat_minor": 4
}
