{
 "cells": [
  {
   "cell_type": "code",
   "execution_count": 1,
   "metadata": {},
   "outputs": [],
   "source": [
    "import pandas as pd\n",
    "import numpy as np\n",
    "import matplotlib.pyplot as plt\n",
    "import seaborn as sns\n",
    "from collections import Counter "
   ]
  },
  {
   "cell_type": "code",
   "execution_count": 2,
   "metadata": {},
   "outputs": [],
   "source": [
    "netflixdata = pd.read_csv(\"netflix_titles.csv\")\n",
    "#print(netflixdata.head(10))"
   ]
  },
  {
   "cell_type": "code",
   "execution_count": 3,
   "metadata": {},
   "outputs": [
    {
     "data": {
      "text/plain": [
       "{'United States': 1850,\n",
       " 'India': 852,\n",
       " nan: 230,\n",
       " 'United Kingdom': 193,\n",
       " 'Canada': 118,\n",
       " 'Egypt': 89,\n",
       " 'Spain': 89,\n",
       " 'Turkey': 73,\n",
       " 'Philippines': 70,\n",
       " 'France': 69,\n",
       " 'Japan': 69,\n",
       " 'Indonesia': 68,\n",
       " 'Mexico': 65,\n",
       " 'Nigeria': 62,\n",
       " 'United Kingdom, United States': 52,\n",
       " 'Hong Kong': 49,\n",
       " 'Brazil': 46,\n",
       " 'Germany': 42,\n",
       " 'United States, Canada': 38,\n",
       " 'Australia': 37}"
      ]
     },
     "execution_count": 3,
     "metadata": {},
     "output_type": "execute_result"
    }
   ],
   "source": [
    "dict(Counter(netflixdata['country'].values).most_common(20))"
   ]
  },
  {
   "cell_type": "code",
   "execution_count": 4,
   "metadata": {},
   "outputs": [
    {
     "name": "stdout",
     "output_type": "stream",
     "text": [
      "{'193 min', '14 min', '16 min', '19 min', '93 min', '125 min', '37 min', '28 min', '31 min', '128 min', '102 min', '164 min', '187 min', '155 min', '77 min', '153 min', '109 min', '117 min', '139 min', '88 min', '58 min', '43 min', '177 min', '124 min', '24 min', '76 min', '100 min', '80 min', '75 min', '113 min', '312 min', '126 min', '18 min', '15 min', '160 min', '214 min', '116 min', '127 min', '91 min', '23 min', '85 min', '133 min', '148 min', '121 min', '115 min', '112 min', '186 min', '27 min', '230 min', '98 min', '82 min', '110 min', '194 min', '87 min', '59 min', '156 min', '63 min', '92 min', '228 min', '79 min', '3 min', '90 min', '57 min', '129 min', '69 min', '131 min', '25 min', '47 min', '50 min', '145 min', '152 min', '70 min', '166 min', '60 min', '173 min', '114 min', '169 min', '11 min', '52 min', '237 min', '132 min', '205 min', '89 min', '200 min', '74 min', '176 min', '208 min', '8 min', '29 min', '107 min', '67 min', '34 min', '64 min', '159 min', '167 min', '157 min', '119 min', '26 min', '10 min', '66 min', '196 min', '142 min', '201 min', '149 min', '168 min', '158 min', '73 min', '96 min', '209 min', '182 min', '146 min', '17 min', '97 min', '78 min', '95 min', '224 min', '86 min', '22 min', '130 min', '12 min', '5 min', '120 min', '36 min', '56 min', '103 min', '161 min', '190 min', '122 min', '111 min', '106 min', '13 min', '189 min', '162 min', '30 min', '45 min', '137 min', '143 min', '171 min', '118 min', '151 min', '123 min', '203 min', '38 min', '108 min', '83 min', '9 min', '55 min', '84 min', '180 min', '165 min', '181 min', '178 min', '104 min', '51 min', '32 min', '136 min', '71 min', '65 min', '44 min', '135 min', '35 min', '170 min', '42 min', '40 min', '53 min', '147 min', '174 min', '81 min', '138 min', '33 min', '68 min', '191 min', '20 min', '163 min', '21 min', '144 min', '134 min', '99 min', '204 min', '54 min', '253 min', '141 min', '46 min', '154 min', '140 min', '179 min', '233 min', '48 min', '94 min', '185 min', '101 min', '41 min', '172 min', '62 min', '105 min', '49 min', '72 min', '192 min', '195 min', '61 min', '150 min'}\n",
      "{3, 5, 8, 9, 10, 11, 12, 13, 14, 15, 16, 17, 18, 19, 20, 21, 22, 23, 24, 25, 26, 27, 28, 29, 30, 31, 32, 33, 34, 35, 36, 37, 38, 40, 41, 42, 43, 44, 45, 46, 47, 48, 49, 50, 51, 52, 53, 54, 55, 56, 57, 58, 59, 60, 61, 62, 63, 64, 65, 66, 67, 68, 69, 70, 71, 72, 73, 74, 75, 76, 77, 78, 79, 80, 81, 82, 83, 84, 85, 86, 87, 88, 89, 90, 91, 92, 93, 94, 95, 96, 97, 98, 99, 100, 101, 102, 103, 104, 105, 106, 107, 108, 109, 110, 111, 112, 113, 114, 115, 116, 117, 118, 119, 120, 121, 122, 123, 124, 125, 126, 127, 128, 129, 130, 131, 132, 133, 134, 135, 136, 137, 138, 139, 140, 141, 142, 143, 144, 145, 146, 147, 148, 149, 150, 151, 152, 153, 154, 155, 156, 157, 158, 159, 160, 161, 162, 163, 164, 165, 166, 167, 168, 169, 170, 171, 172, 173, 174, 176, 177, 178, 179, 180, 181, 182, 185, 186, 187, 189, 190, 191, 192, 193, 194, 195, 196, 200, 201, 203, 204, 205, 208, 209, 214, 224, 228, 230, 233, 237, 253, 312}\n"
     ]
    }
   ],
   "source": [
    "print(set(netflixdata['duration']))\n",
    "netflixdata['duration'] = netflixdata['duration'].map(lambda x: x.rstrip('min')).astype(int)\n",
    "print(set(netflixdata['duration']))"
   ]
  },
  {
   "cell_type": "code",
   "execution_count": 5,
   "metadata": {},
   "outputs": [],
   "source": [
    "def return_statistics(data_frame, categorical_column, numerical_column):\n",
    "    mean = []\n",
    "    std = []\n",
    "    field = []\n",
    "    for i in set(list(data_frame[categorical_column].values)):\n",
    "        new_data = data_frame[data_frame[categorical_column] == i]\n",
    "        field.append(i)\n",
    "        mean.append(new_data[numerical_column].mean())\n",
    "        std.append(new_data[numerical_column].std())\n",
    "    netflixdata = pd.DataFrame({'{}'.format(categorical_column): field, 'mean {}'.format(numerical_column): mean, 'std in {}'.format(numerical_column): std})\n",
    "    netflixdata.sort_values('mean {}'.format(numerical_column), inplace = True, ascending = False)\n",
    "    netflixdata.dropna(inplace = True)\n",
    "    return netflixdata"
   ]
  },
  {
   "cell_type": "code",
   "execution_count": 6,
   "metadata": {},
   "outputs": [
    {
     "name": "stdout",
     "output_type": "stream",
     "text": [
      "                                                 genre  mean duration  \\\n",
      "194            Classic Movies, Dramas, Romantic Movies     153.666667   \n",
      "196                Classic Movies, Cult Movies, Dramas     145.500000   \n",
      "79            Classic Movies, Dramas, Music & Musicals     145.000000   \n",
      "95   Action & Adventure, International Movies, Musi...     142.800000   \n",
      "102         Action & Adventure, Classic Movies, Dramas     142.428571   \n",
      "119               Action & Adventure, Comedies, Dramas     136.083333   \n",
      "263     Dramas, International Movies, Music & Musicals     136.038462   \n",
      "110              Classic Movies, Dramas, Sports Movies     133.500000   \n",
      "14   International Movies, Music & Musicals, Romant...     133.000000   \n",
      "111       Action & Adventure, Classic Movies, Comedies     130.333333   \n",
      "37    Comedies, International Movies, Sci-Fi & Fantasy     129.666667   \n",
      "49    Action & Adventure, Dramas, International Movies     129.521368   \n",
      "86                      Cult Movies, Dramas, Thrillers     129.500000   \n",
      "240       Classic Movies, Dramas, International Movies     129.444444   \n",
      "78    Comedies, International Movies, Music & Musicals     129.075472   \n",
      "\n",
      "     std in duration  \n",
      "194        46.003623  \n",
      "196        12.020815  \n",
      "79         50.911688  \n",
      "95         15.894094  \n",
      "102        41.307211  \n",
      "119        28.946603  \n",
      "263        27.089511  \n",
      "110         6.363961  \n",
      "14         20.861448  \n",
      "111        40.104031  \n",
      "37         31.001075  \n",
      "49         27.520086  \n",
      "86         40.305087  \n",
      "240        40.195438  \n",
      "78         22.611985  \n"
     ]
    }
   ],
   "source": [
    "stats = return_statistics(netflixdata, 'genre', 'duration')\n",
    "print(stats.head(15))"
   ]
  },
  {
   "cell_type": "code",
   "execution_count": 7,
   "metadata": {},
   "outputs": [],
   "source": [
    "huludata = pd.read_csv(\"hulu_titles.csv\")\n",
    "#print(huludata.head(10))"
   ]
  },
  {
   "cell_type": "code",
   "execution_count": 8,
   "metadata": {},
   "outputs": [
    {
     "data": {
      "text/plain": [
       "{'United States': 502,\n",
       " 'United Kingdom': 38,\n",
       " 'Canada': 25,\n",
       " 'Japan': 20,\n",
       " 'United States,United Kingdom': 15,\n",
       " 'Canada,United States': 14,\n",
       " 'United Kingdom,United States': 14,\n",
       " 'France': 12,\n",
       " 'United States,Canada': 11,\n",
       " nan: 11,\n",
       " 'South Korea': 11,\n",
       " 'Australia': 8,\n",
       " 'Ireland,United Kingdom': 6,\n",
       " 'United States,Japan': 5,\n",
       " 'Italy,France': 5,\n",
       " 'United States,Germany': 4,\n",
       " 'Spain': 4,\n",
       " 'United States,France': 4,\n",
       " 'United States,Mexico': 4,\n",
       " 'Denmark': 3}"
      ]
     },
     "execution_count": 8,
     "metadata": {},
     "output_type": "execute_result"
    }
   ],
   "source": [
    "dict(Counter(huludata['country'].values).most_common(20))"
   ]
  },
  {
   "cell_type": "code",
   "execution_count": 9,
   "metadata": {},
   "outputs": [
    {
     "name": "stdout",
     "output_type": "stream",
     "text": [
      "{nan, nan, nan, nan, nan, nan, nan, nan, nan, nan, nan, nan, 12.0, nan, nan, 15.0, 22.0, 28.0, 30.0, nan, nan, nan, 34.0, 35.0, 36.0, nan, 38.0, 39.0, 44.0, 45.0, 48.0, 50.0, 51.0, 52.0, 55.0, 57.0, 58.0, 60.0, 65.0, 68.0, 69.0, 70.0, 71.0, 72.0, 73.0, 74.0, 75.0, 76.0, 77.0, 78.0, 79.0, 80.0, 81.0, 82.0, 83.0, 84.0, 85.0, 86.0, 87.0, 88.0, 89.0, 90.0, 91.0, 92.0, 93.0, 94.0, 95.0, 96.0, 97.0, 98.0, 99.0, 100.0, 101.0, 102.0, 103.0, 104.0, 105.0, 106.0, 107.0, 108.0, 109.0, 110.0, 111.0, 112.0, 113.0, 114.0, 115.0, 116.0, 117.0, 118.0, 119.0, 120.0, 121.0, 122.0, 123.0, 124.0, 125.0, 126.0, 127.0, 128.0, 129.0, 130.0, 132.0, 133.0, 135.0, 136.0, 137.0, 139.0, 140.0, 141.0, 143.0, 146.0, 147.0, 151.0, 152.0, 153.0, 154.0, 157.0, 159.0, 165.0, 174.0, 189.0, 210.0, 750.0, 265.0}\n"
     ]
    }
   ],
   "source": [
    "print(set(huludata['duration']))"
   ]
  },
  {
   "cell_type": "code",
   "execution_count": 24,
   "metadata": {},
   "outputs": [],
   "source": [
    "def return_statistics(data_frame, categorical_column, numerical_column):\n",
    "    average = []\n",
    "    std = []\n",
    "    field = []\n",
    "    for i in set(list(data_frame[categorical_column].values)):\n",
    "        new_data = data_frame[data_frame[categorical_column] == i]\n",
    "        field.append(i)\n",
    "        average.append(new_data[numerical_column].mean())\n",
    "        std.append(new_data[numerical_column].std())\n",
    "    huludata = pd.DataFrame({'{}'.format(categorical_column): field, 'average {}'.format(numerical_column): average, 'std in {}'.format(numerical_column): std})\n",
    "    huludata.sort_values('average {}'.format(numerical_column), inplace = True, ascending = False)\n",
    "    huludata.dropna(inplace = True)\n",
    "    return huludata"
   ]
  },
  {
   "cell_type": "code",
   "execution_count": 25,
   "metadata": {},
   "outputs": [
    {
     "name": "stdout",
     "output_type": "stream",
     "text": [
      "                                genre  average duration  std in duration\n",
      "249                Action,Crime,Drama        268.750000       321.043481\n",
      "12               Drama,Fantasy,Horror        210.000000         0.000000\n",
      "246          Action,Drama,History,War        136.333333        26.083200\n",
      "18   Action,Drama,History,Romance,War        131.500000        10.606602\n",
      "42                       Drama,Sci-Fi        124.800000        12.377399\n",
      "151           Action,Adventure,Sci-Fi        121.500000        22.037846\n",
      "164          Action,Adventure,Fantasy        121.000000        11.313708\n",
      "84                   Action,Adventure        120.000000        28.284271\n",
      "202          Adventure,Drama,Thriller        119.000000        24.041631\n",
      "154           Biography,Drama,Romance        119.000000         7.393691\n",
      "44               Action,Drama,History        116.500000        28.991378\n",
      "308             Action,Crime,Thriller        114.166667        17.554676\n",
      "302               Drama,Music,Romance        113.666667        21.079216\n",
      "199      Biography,Comedy,Drama,Sport        113.500000         7.778175\n",
      "254           Action,Adventure,Comedy        113.000000         3.605551\n"
     ]
    }
   ],
   "source": [
    "stats = return_statistics(huludata, 'genre', 'duration')\n",
    "print(stats.head(15))"
   ]
  },
  {
   "cell_type": "code",
   "execution_count": 12,
   "metadata": {},
   "outputs": [],
   "source": [
    "def get_boxplot_of_categories(data_frame, categorical_column, numerical_column, limit):\n",
    "    keys = []\n",
    "    for i in dict(Counter(huludata[categorical_column].values).most_common(limit)):\n",
    "        keys.append(i)\n",
    "    print(keys)\n",
    "    huludata_new = huludata[huludata[categorical_column].isin(keys)]\n",
    "    sns.set()\n",
    "    sns.boxplot(x = huludata_new[categorical_column], y = huludata_new[numerical_column])"
   ]
  },
  {
   "cell_type": "code",
   "execution_count": 13,
   "metadata": {},
   "outputs": [],
   "source": [
    "def get_boxplot_of_categories(data_frame, categorical_column, numerical_column, limit):\n",
    "    keys = []\n",
    "    for i in dict(Counter(netflixdata[categorical_column].values).most_common(limit)):\n",
    "        keys.append(i)\n",
    "    print(keys)\n",
    "    netflixdata_new = netflixdata[netflixdata[categorical_column].isin(keys)]\n",
    "    sns.set()\n",
    "    sns.boxplot(x = netflixdata_new[categorical_column], y = netflixdata_new[numerical_column])"
   ]
  },
  {
   "cell_type": "code",
   "execution_count": 17,
   "metadata": {},
   "outputs": [
    {
     "name": "stdout",
     "output_type": "stream",
     "text": [
      "['Documentaries', 'Stand-Up Comedy', 'Dramas, International Movies']\n"
     ]
    },
    {
     "data": {
      "image/png": "[encoded data removed]",
      "text/plain": [
       "<Figure size 432x288 with 1 Axes>"
      ]
     },
     "metadata": {},
     "output_type": "display_data"
    }
   ],
   "source": [
    "get_boxplot_of_categories(huludata, 'genre', 'duration', 3)"
   ]
  },
  {
   "cell_type": "code",
   "execution_count": 16,
   "metadata": {},
   "outputs": [
    {
     "name": "stdout",
     "output_type": "stream",
     "text": [
      "['Documentaries', 'Stand-Up Comedy', 'Dramas, International Movies']\n"
     ]
    },
    {
     "data": {
      "image/png": "[encoded data removed]",
      "text/plain": [
       "<Figure size 432x288 with 1 Axes>"
      ]
     },
     "metadata": {},
     "output_type": "display_data"
    }
   ],
   "source": [
    "get_boxplot_of_categories(netflixdata, 'genre', 'duration', 3)"
   ]
  },
  {
   "cell_type": "code",
   "execution_count": null,
   "metadata": {},
   "outputs": [],
   "source": []
  }
 ],
 "metadata": {
  "kernelspec": {
   "display_name": "Python 3",
   "language": "python",
   "name": "python3"
  },
  "language_info": {
   "codemirror_mode": {
    "name": "ipython",
    "version": 3
   },
   "file_extension": ".py",
   "mimetype": "text/x-python",
   "name": "python",
   "nbconvert_exporter": "python",
   "pygments_lexer": "ipython3",
   "version": "3.8.5"
  }
 },
 "nbformat": 4,
 "nbformat_minor": 4
}
