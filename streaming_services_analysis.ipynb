{
 "cells": [
  {
   "cell_type": "code",
   "execution_count": 1,
   "metadata": {},
   "outputs": [
    {
     "name": "stderr",
     "output_type": "stream",
     "text": [
      "Matplotlib is building the font cache; this may take a moment.\n"
     ]
    }
   ],
   "source": [
    "import pandas as pd\n",
    "import numpy as np\n",
    "import matplotlib.pyplot as plt\n",
    "import seaborn as sns\n",
    "\n",
    "sns.set_style('darkgrid')"
   ]
  },
  {
   "cell_type": "code",
   "execution_count": 20,
   "metadata": {},
   "outputs": [],
   "source": [
    "class DataAnalysis:\n",
    "    def __init__(self, data):\n",
    "        self.data = data\n",
    "        \n",
    "    \n",
    "    def display_data(self):\n",
    "        df = pd.read_csv(self.data)\n",
    "        print(df.head(10))"
   ]
  },
  {
   "cell_type": "code",
   "execution_count": 21,
   "metadata": {},
   "outputs": [
    {
     "name": "stdout",
     "output_type": "stream",
     "text": [
      "  show_id     type  title           director  \\\n",
      "0      s1  TV Show     3%                NaN   \n",
      "1      s2    Movie   7:19  Jorge Michel Grau   \n",
      "2      s3    Movie  23:59       Gilbert Chan   \n",
      "3      s4    Movie      9        Shane Acker   \n",
      "4      s5    Movie     21     Robert Luketic   \n",
      "5      s6  TV Show     46        Serdar Akar   \n",
      "6      s7    Movie    122    Yasir Al Yasiri   \n",
      "7      s8    Movie    187     Kevin Reynolds   \n",
      "8      s9    Movie    706      Shravan Kumar   \n",
      "9     s10    Movie   1920       Vikram Bhatt   \n",
      "\n",
      "                                                cast        country  \\\n",
      "0  João Miguel, Bianca Comparato, Michel Gomes, R...         Brazil   \n",
      "1  Demián Bichir, Héctor Bonilla, Oscar Serrano, ...         Mexico   \n",
      "2  Tedd Chan, Stella Chung, Henley Hii, Lawrence ...      Singapore   \n",
      "3  Elijah Wood, John C. Reilly, Jennifer Connelly...  United States   \n",
      "4  Jim Sturgess, Kevin Spacey, Kate Bosworth, Aar...  United States   \n",
      "5  Erdal Beşikçioğlu, Yasemin Allen, Melis Birkan...         Turkey   \n",
      "6  Amina Khalil, Ahmed Dawood, Tarek Lotfy, Ahmed...          Egypt   \n",
      "7  Samuel L. Jackson, John Heard, Kelly Rowan, Cl...  United States   \n",
      "8  Divya Dutta, Atul Kulkarni, Mohan Agashe, Anup...          India   \n",
      "9  Rajneesh Duggal, Adah Sharma, Indraneil Sengup...          India   \n",
      "\n",
      "          date_added  release_year rating   duration  \\\n",
      "0    August 14, 2020          2020  TV-MA  4 Seasons   \n",
      "1  December 23, 2016          2016  TV-MA     93 min   \n",
      "2  December 20, 2018          2011      R     78 min   \n",
      "3  November 16, 2017          2009  PG-13     80 min   \n",
      "4    January 1, 2020          2008  PG-13    123 min   \n",
      "5       July 1, 2017          2016  TV-MA   1 Season   \n",
      "6       June 1, 2020          2019  TV-MA     95 min   \n",
      "7   November 1, 2019          1997      R    119 min   \n",
      "8      April 1, 2019          2019  TV-14    118 min   \n",
      "9  December 15, 2017          2008  TV-MA    143 min   \n",
      "\n",
      "                                           listed_in  \\\n",
      "0  International TV Shows, TV Dramas, TV Sci-Fi &...   \n",
      "1                       Dramas, International Movies   \n",
      "2                Horror Movies, International Movies   \n",
      "3  Action & Adventure, Independent Movies, Sci-Fi...   \n",
      "4                                             Dramas   \n",
      "5    International TV Shows, TV Dramas, TV Mysteries   \n",
      "6                Horror Movies, International Movies   \n",
      "7                                             Dramas   \n",
      "8                Horror Movies, International Movies   \n",
      "9     Horror Movies, International Movies, Thrillers   \n",
      "\n",
      "                                         description  \n",
      "0  In a future where the elite inhabit an island ...  \n",
      "1  After a devastating earthquake hits Mexico Cit...  \n",
      "2  When an army recruit is found dead, his fellow...  \n",
      "3  In a postapocalyptic world, rag-doll robots hi...  \n",
      "4  A brilliant group of students become card-coun...  \n",
      "5  A genetics professor experiments with a treatm...  \n",
      "6  After an awful accident, a couple admitted to ...  \n",
      "7  After one of his high school students attacks ...  \n",
      "8  When a doctor goes missing, his psychiatrist w...  \n",
      "9  An architect and his wife move into a castle t...  \n"
     ]
    }
   ],
   "source": [
    "#columns = [\"showID\", \"title\", \"director\", \"cast\", \"country\", \"date_added\", \"release_year\", \"rating\", \"duration\", \"listed_in\", \"description\"]\n",
    "\n",
    "data_analysis = DataAnalysis(\"netflix_titles.csv\")\n",
    "data_analysis.display_data()"
   ]
  },
  {
   "cell_type": "code",
   "execution_count": null,
   "metadata": {},
   "outputs": [],
   "source": []
  }
 ],
 "metadata": {
  "kernelspec": {
   "display_name": "Python 3",
   "language": "python",
   "name": "python3"
  },
  "language_info": {
   "codemirror_mode": {
    "name": "ipython",
    "version": 3
   },
   "file_extension": ".py",
   "mimetype": "text/x-python",
   "name": "python",
   "nbconvert_exporter": "python",
   "pygments_lexer": "ipython3",
   "version": "3.8.5"
  }
 },
 "nbformat": 4,
 "nbformat_minor": 4
}
