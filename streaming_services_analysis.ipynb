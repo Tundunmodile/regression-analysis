{
 "cells": [
  {
   "cell_type": "code",
   "execution_count": 17,
   "metadata": {},
   "outputs": [],
   "source": [
    "import pandas as pd\n",
    "import numpy as np\n",
    "import matplotlib.pyplot as plt\n",
    "import seaborn as sns\n",
    "from collections import Counter \n",
    "\n",
    "sns.set_style('darkgrid')"
   ]
  },
  {
   "cell_type": "code",
   "execution_count": 88,
   "metadata": {},
   "outputs": [],
   "source": [
    "class DataAnalysis():\n",
    "    def __init__(self, data):\n",
    "        self.df = pd.read_csv(data)\n",
    "        \n",
    "    def display_data(self):\n",
    "        print(self.df.head(10))\n",
    "        \n",
    "    def return_counter(self, column_name, limit):\n",
    "        print(dict(Counter(self.df[column_name].values).most_common(limit)))"
   ]
  },
  {
   "cell_type": "code",
   "execution_count": 89,
   "metadata": {},
   "outputs": [
    {
     "name": "stdout",
     "output_type": "stream",
     "text": [
      "{'United States': 1850, 'India': 852, nan: 230, 'United Kingdom': 193, 'Canada': 118, 'Egypt': 89, 'Spain': 89, 'Turkey': 73, 'Philippines': 70, 'France': 69}\n"
     ]
    }
   ],
   "source": [
    "netflix = DataAnalysis(\"netflix_titles.csv\")\n",
    "#netflix.display_data()\n",
    "netflix.return_counter('country',10)"
   ]
  },
  {
   "cell_type": "code",
   "execution_count": 4,
   "metadata": {},
   "outputs": [
    {
     "name": "stdout",
     "output_type": "stream",
     "text": [
      "    type                         title                       director  \\\n",
      "0  Movie                     Blackfish         Gabriela Cowperthwaite   \n",
      "1  Movie          Jiro Dreams of Sushi                     David Gelb   \n",
      "2  Movie                   The Patriot                Roland Emmerich   \n",
      "3  Movie                    The Square                  Ruben Östlund   \n",
      "4  Movie                         Hitch                   Andy Tennant   \n",
      "5  Movie  Hey Arnold! The Jungle Movie  Raymie Muzquiz,Stu Livingston   \n",
      "6  Movie                 The Interview       Evan Goldberg,Seth Rogen   \n",
      "7  Movie                        Blame!               Hiroyuki Seshita   \n",
      "8  Movie                     Evolution                   Ivan Reitman   \n",
      "9  Movie                      The Oath                            NaN   \n",
      "\n",
      "                                       country  year  duration  \\\n",
      "0                                United States  2013      83.0   \n",
      "1                                United States  2011      81.0   \n",
      "2                        United States,Germany  2000     165.0   \n",
      "3  Sweden,Germany,France,Denmark,United States  2013     151.0   \n",
      "4                                United States  2005     118.0   \n",
      "5              United States,South Korea,Japan  2017      81.0   \n",
      "6                                United States  2014     112.0   \n",
      "7                                        Japan  2017     106.0   \n",
      "8                                United States  2001     101.0   \n",
      "9                                United States  2016      60.0   \n",
      "\n",
      "                                       genre                Language  \n",
      "0                           Documentary,News         English,Spanish  \n",
      "1                                Documentary                Japanese  \n",
      "2                   Action,Drama,History,War          English,French  \n",
      "3                               Comedy,Drama  Swedish,English,Danish  \n",
      "4                             Comedy,Romance                 English  \n",
      "5  Animation,Adventure,Comedy,Family,Fantasy          English,Korean  \n",
      "6                    Action,Adventure,Comedy          English,Korean  \n",
      "7     Animation,Action,Drama,Sci-Fi,Thriller                Japanese  \n",
      "8                              Comedy,Sci-Fi                 English  \n",
      "9                                Crime,Drama                 English  \n"
     ]
    }
   ],
   "source": [
    "huludata_analysis = DataAnalysis(\"hulu_titles.csv\")\n",
    "#huludata_analysis.display_data()\n",
    "return_counter(df, 'country', 10)"
   ]
  },
  {
   "cell_type": "code",
   "execution_count": null,
   "metadata": {},
   "outputs": [],
   "source": []
  },
  {
   "cell_type": "code",
   "execution_count": null,
   "metadata": {},
   "outputs": [],
   "source": []
  }
 ],
 "metadata": {
  "kernelspec": {
   "display_name": "Python 3",
   "language": "python",
   "name": "python3"
  },
  "language_info": {
   "codemirror_mode": {
    "name": "ipython",
    "version": 3
   },
   "file_extension": ".py",
   "mimetype": "text/x-python",
   "name": "python",
   "nbconvert_exporter": "python",
   "pygments_lexer": "ipython3",
   "version": "3.8.5"
  }
 },
 "nbformat": 4,
 "nbformat_minor": 4
}
