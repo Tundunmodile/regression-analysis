{
 "cells": [
  {
   "cell_type": "code",
   "execution_count": 17,
   "metadata": {},
   "outputs": [],
   "source": [
    "import pandas as pd\n",
    "import numpy as np\n",
    "import matplotlib.pyplot as plt\n",
    "import seaborn as sns\n",
    "from collections import Counter \n",
    "\n",
    "sns.set_style('darkgrid')"
   ]
  },
  {
   "cell_type": "code",
   "execution_count": 84,
   "metadata": {},
   "outputs": [],
   "source": [
    "class DataAnalysis():\n",
    "    def __init__(self, data):\n",
    "        self.data = data\n",
    "        \n",
    "    def display_data(self):\n",
    "        df = pd.read_csv(self.data)\n",
    "        print(df.head(10))\n",
    "        \n",
    "    def display_full_data(self):\n",
    "        df = pd.read_csv(self.data)\n",
    "        return df\n",
    "        \n",
    "    def return_counter(df,column_name, limit):\n",
    "        print(dict(Counter(df[column_name].values).most_common(limit)))"
   ]
  },
  {
   "cell_type": "code",
   "execution_count": 85,
   "metadata": {},
   "outputs": [
    {
     "name": "stdout",
     "output_type": "stream",
     "text": [
      "      type  title           director        country  year   duration  \\\n",
      "0  TV Show     3%                NaN         Brazil  2020  4 Seasons   \n",
      "1    Movie   7:19  Jorge Michel Grau         Mexico  2016     93 min   \n",
      "2    Movie  23:59       Gilbert Chan      Singapore  2011     78 min   \n",
      "3    Movie      9        Shane Acker  United States  2009     80 min   \n",
      "4    Movie     21     Robert Luketic  United States  2008    123 min   \n",
      "5  TV Show     46        Serdar Akar         Turkey  2016   1 Season   \n",
      "6    Movie    122    Yasir Al Yasiri          Egypt  2019     95 min   \n",
      "7    Movie    187     Kevin Reynolds  United States  1997    119 min   \n",
      "8    Movie    706      Shravan Kumar          India  2019    118 min   \n",
      "9    Movie   1920       Vikram Bhatt          India  2008    143 min   \n",
      "\n",
      "                                               genre  \\\n",
      "0  International TV Shows, TV Dramas, TV Sci-Fi &...   \n",
      "1                       Dramas, International Movies   \n",
      "2                Horror Movies, International Movies   \n",
      "3  Action & Adventure, Independent Movies, Sci-Fi...   \n",
      "4                                             Dramas   \n",
      "5    International TV Shows, TV Dramas, TV Mysteries   \n",
      "6                Horror Movies, International Movies   \n",
      "7                                             Dramas   \n",
      "8                Horror Movies, International Movies   \n",
      "9     Horror Movies, International Movies, Thrillers   \n",
      "\n",
      "                                                cast  \\\n",
      "0  João Miguel, Bianca Comparato, Michel Gomes, R...   \n",
      "1  Demián Bichir, Héctor Bonilla, Oscar Serrano, ...   \n",
      "2  Tedd Chan, Stella Chung, Henley Hii, Lawrence ...   \n",
      "3  Elijah Wood, John C. Reilly, Jennifer Connelly...   \n",
      "4  Jim Sturgess, Kevin Spacey, Kate Bosworth, Aar...   \n",
      "5  Erdal Beşikçioğlu, Yasemin Allen, Melis Birkan...   \n",
      "6  Amina Khalil, Ahmed Dawood, Tarek Lotfy, Ahmed...   \n",
      "7  Samuel L. Jackson, John Heard, Kelly Rowan, Cl...   \n",
      "8  Divya Dutta, Atul Kulkarni, Mohan Agashe, Anup...   \n",
      "9  Rajneesh Duggal, Adah Sharma, Indraneil Sengup...   \n",
      "\n",
      "                                         description  \n",
      "0  In a future where the elite inhabit an island ...  \n",
      "1  After a devastating earthquake hits Mexico Cit...  \n",
      "2  When an army recruit is found dead, his fellow...  \n",
      "3  In a postapocalyptic world, rag-doll robots hi...  \n",
      "4  A brilliant group of students become card-coun...  \n",
      "5  A genetics professor experiments with a treatm...  \n",
      "6  After an awful accident, a couple admitted to ...  \n",
      "7  After one of his high school students attacks ...  \n",
      "8  When a doctor goes missing, his psychiatrist w...  \n",
      "9  An architect and his wife move into a castle t...  \n"
     ]
    },
    {
     "ename": "TypeError",
     "evalue": "return_counter() takes 3 positional arguments but 4 were given",
     "output_type": "error",
     "traceback": [
      "\u001b[1;31m---------------------------------------------------------------------------\u001b[0m",
      "\u001b[1;31mTypeError\u001b[0m                                 Traceback (most recent call last)",
      "\u001b[1;32m<ipython-input-85-809f42e65fad>\u001b[0m in \u001b[0;36m<module>\u001b[1;34m\u001b[0m\n\u001b[0;32m      2\u001b[0m \u001b[0mnetflix\u001b[0m\u001b[1;33m.\u001b[0m\u001b[0mdisplay_data\u001b[0m\u001b[1;33m(\u001b[0m\u001b[1;33m)\u001b[0m\u001b[1;33m\u001b[0m\u001b[1;33m\u001b[0m\u001b[0m\n\u001b[0;32m      3\u001b[0m \u001b[0mnetflix_df\u001b[0m\u001b[1;33m=\u001b[0m \u001b[0mnetflix\u001b[0m\u001b[1;33m.\u001b[0m\u001b[0mdisplay_full_data\u001b[0m\u001b[1;33m(\u001b[0m\u001b[1;33m)\u001b[0m\u001b[1;33m\u001b[0m\u001b[1;33m\u001b[0m\u001b[0m\n\u001b[1;32m----> 4\u001b[1;33m \u001b[0mnetflix\u001b[0m\u001b[1;33m.\u001b[0m\u001b[0mreturn_counter\u001b[0m\u001b[1;33m(\u001b[0m\u001b[0mnetflix_df\u001b[0m\u001b[1;33m,\u001b[0m\u001b[1;34m'country'\u001b[0m\u001b[1;33m,\u001b[0m\u001b[1;36m10\u001b[0m\u001b[1;33m)\u001b[0m\u001b[1;33m\u001b[0m\u001b[1;33m\u001b[0m\u001b[0m\n\u001b[0m",
      "\u001b[1;31mTypeError\u001b[0m: return_counter() takes 3 positional arguments but 4 were given"
     ]
    }
   ],
   "source": [
    "netflix = DataAnalysis(\"netflix_titles.csv\")\n",
    "netflix.display_data()\n",
    "netflix_df= netflix.display_full_data()\n",
    "netflix.return_counter(netflix_df,'country',10)"
   ]
  },
  {
   "cell_type": "code",
   "execution_count": 4,
   "metadata": {},
   "outputs": [
    {
     "name": "stdout",
     "output_type": "stream",
     "text": [
      "    type                         title                       director  \\\n",
      "0  Movie                     Blackfish         Gabriela Cowperthwaite   \n",
      "1  Movie          Jiro Dreams of Sushi                     David Gelb   \n",
      "2  Movie                   The Patriot                Roland Emmerich   \n",
      "3  Movie                    The Square                  Ruben Östlund   \n",
      "4  Movie                         Hitch                   Andy Tennant   \n",
      "5  Movie  Hey Arnold! The Jungle Movie  Raymie Muzquiz,Stu Livingston   \n",
      "6  Movie                 The Interview       Evan Goldberg,Seth Rogen   \n",
      "7  Movie                        Blame!               Hiroyuki Seshita   \n",
      "8  Movie                     Evolution                   Ivan Reitman   \n",
      "9  Movie                      The Oath                            NaN   \n",
      "\n",
      "                                       country  year  duration  \\\n",
      "0                                United States  2013      83.0   \n",
      "1                                United States  2011      81.0   \n",
      "2                        United States,Germany  2000     165.0   \n",
      "3  Sweden,Germany,France,Denmark,United States  2013     151.0   \n",
      "4                                United States  2005     118.0   \n",
      "5              United States,South Korea,Japan  2017      81.0   \n",
      "6                                United States  2014     112.0   \n",
      "7                                        Japan  2017     106.0   \n",
      "8                                United States  2001     101.0   \n",
      "9                                United States  2016      60.0   \n",
      "\n",
      "                                       genre                Language  \n",
      "0                           Documentary,News         English,Spanish  \n",
      "1                                Documentary                Japanese  \n",
      "2                   Action,Drama,History,War          English,French  \n",
      "3                               Comedy,Drama  Swedish,English,Danish  \n",
      "4                             Comedy,Romance                 English  \n",
      "5  Animation,Adventure,Comedy,Family,Fantasy          English,Korean  \n",
      "6                    Action,Adventure,Comedy          English,Korean  \n",
      "7     Animation,Action,Drama,Sci-Fi,Thriller                Japanese  \n",
      "8                              Comedy,Sci-Fi                 English  \n",
      "9                                Crime,Drama                 English  \n"
     ]
    }
   ],
   "source": [
    "huludata_analysis = DataAnalysis(\"hulu_titles.csv\")\n",
    "#huludata_analysis.display_data()\n",
    "return_counter(df, 'country', 10)"
   ]
  },
  {
   "cell_type": "code",
   "execution_count": null,
   "metadata": {},
   "outputs": [],
   "source": []
  },
  {
   "cell_type": "code",
   "execution_count": null,
   "metadata": {},
   "outputs": [],
   "source": []
  }
 ],
 "metadata": {
  "kernelspec": {
   "display_name": "Python 3",
   "language": "python",
   "name": "python3"
  },
  "language_info": {
   "codemirror_mode": {
    "name": "ipython",
    "version": 3
   },
   "file_extension": ".py",
   "mimetype": "text/x-python",
   "name": "python",
   "nbconvert_exporter": "python",
   "pygments_lexer": "ipython3",
   "version": "3.8.5"
  }
 },
 "nbformat": 4,
 "nbformat_minor": 4
}
